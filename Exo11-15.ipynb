{
  "nbformat": 4,
  "nbformat_minor": 0,
  "metadata": {
    "colab": {
      "provenance": [],
      "authorship_tag": "ABX9TyPUIyb4b2uJv5ncUqEkHV/o",
      "include_colab_link": true
    },
    "kernelspec": {
      "name": "python3",
      "display_name": "Python 3"
    },
    "language_info": {
      "name": "python"
    }
  },
  "cells": [
    {
      "cell_type": "markdown",
      "metadata": {
        "id": "view-in-github",
        "colab_type": "text"
      },
      "source": [
        "<a href=\"https://colab.research.google.com/github/Tourniquett/Python/blob/main/Exo11-15.ipynb\" target=\"_parent\"><img src=\"https://colab.research.google.com/assets/colab-badge.svg\" alt=\"Open In Colab\"/></a>"
      ]
    },
    {
      "cell_type": "code",
      "execution_count": null,
      "metadata": {
        "colab": {
          "base_uri": "https://localhost:8080/"
        },
        "id": "zeEQLzZgXia4",
        "outputId": "6929564c-d813-4c9e-f926-a3b9e5033a61"
      },
      "outputs": [
        {
          "output_type": "stream",
          "name": "stdout",
          "text": [
            "La surface du cercle est :  19.634954084936208\n"
          ]
        }
      ],
      "source": [
        "#Exercice 11\n",
        "import math # math.pi\n",
        "import random\n",
        "\n",
        "def surfCercle (R):\n",
        " return( math.pi * R * R ) #R**2 || pow(x,2)\n",
        "\n",
        "print (\"La surface du cercle est : \", surfCercle(2.5))\n"
      ]
    },
    {
      "cell_type": "code",
      "source": [
        "#Exercice 12\n",
        "import math\n",
        "import random\n",
        "\n",
        "def maximum (n1 , n2 , n3):\n",
        " if (n1 >= n2) and (n1 >= n3):\n",
        "  return n1\n",
        " elif (n2 >= n1) and (n2 >= n3):\n",
        "  return n2\n",
        " else:\n",
        "  return n3\n",
        "\n",
        "print (maximum(2, 8, 4))\n"
      ],
      "metadata": {
        "colab": {
          "base_uri": "https://localhost:8080/"
        },
        "id": "3f6qxMdRXmIc",
        "outputId": "b62e0e5a-696a-4748-bb8f-f1903883a062"
      },
      "execution_count": null,
      "outputs": [
        {
          "output_type": "stream",
          "name": "stdout",
          "text": [
            "8\n"
          ]
        }
      ]
    },
    {
      "cell_type": "code",
      "source": [
        "#Exercice 13\n",
        "\n",
        "import math # math.pi\n",
        "import random\n",
        "\n",
        "def table (base , debut , fin , pas):\n",
        "  for i in range (debut , fin +1 , pas ): #range(start = 0 , stop , step = 1)\n",
        "    print(f\"{base} x {i} = {base * i}\")\n",
        "table (5, 1 , 11 ,1)\n"
      ],
      "metadata": {
        "colab": {
          "base_uri": "https://localhost:8080/"
        },
        "id": "x2hxbCRkaMGz",
        "outputId": "36871143-b0b1-4b11-f501-a0955820b7b5"
      },
      "execution_count": null,
      "outputs": [
        {
          "output_type": "stream",
          "name": "stdout",
          "text": [
            "5 x 1 = 5\n",
            "5 x 2 = 10\n",
            "5 x 3 = 15\n",
            "5 x 4 = 20\n",
            "5 x 5 = 25\n",
            "5 x 6 = 30\n",
            "5 x 7 = 35\n",
            "5 x 8 = 40\n",
            "5 x 9 = 45\n",
            "5 x 10 = 50\n",
            "5 x 11 = 55\n"
          ]
        }
      ]
    },
    {
      "cell_type": "code",
      "source": [
        "#Exercice 14\n",
        "\n",
        "import math # math.pi\n",
        "import random\n",
        "\n",
        "def changeCar(ch, ca1, ca2, debut = 0, fin = -1):\n",
        "    sous_chaine = ch[debut:fin]\n",
        "    tableau = sous_chaine.split(ca1)\n",
        "    nouvelle_sous_chaine = ca2.join(tableau)\n",
        "    chaine_finale = ch[:debut] + nouvelle_sous_chaine + ch[fin:]\n",
        "    print(chaine_finale)\n",
        "\n",
        "changeCar(\"Bonjour,je,suis,Nessim\", \",\", \" \")\n"
      ],
      "metadata": {
        "colab": {
          "base_uri": "https://localhost:8080/"
        },
        "id": "3nKiSJCugTI8",
        "outputId": "51e1f03b-4576-41e9-81a6-cd91d9bc6a8f"
      },
      "execution_count": null,
      "outputs": [
        {
          "output_type": "stream",
          "name": "stdout",
          "text": [
            "Bonjour je suis Nessim\n"
          ]
        }
      ]
    },
    {
      "cell_type": "code",
      "source": [
        "#Exercice 15\n",
        "\n",
        "import math # math.pi\n",
        "import random\n",
        "\n",
        "def changeCar(ch, ca1, ca2, debut, fin):\n",
        "    sous_chaine = ch[debut:fin]\n",
        "    tableau = sous_chaine.split(ca1)\n",
        "    nouvelle_sous_chaine = ca2.join(tableau)\n",
        "    chaine_finale = ch[:debut] + nouvelle_sous_chaine + ch[fin:]\n",
        "    print(chaine_finale)\n",
        "\n",
        "changeCar(\"Bonjour,je,suis,Nessim\", \",\", \" \", 8, 20)\n",
        "\n"
      ],
      "metadata": {
        "id": "-MH1KdxcgnG2"
      },
      "execution_count": null,
      "outputs": []
    }
  ]
}